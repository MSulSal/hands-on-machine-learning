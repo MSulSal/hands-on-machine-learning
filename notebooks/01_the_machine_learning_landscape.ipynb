{
 "cells": [
  {
   "cell_type": "markdown",
   "id": "f8e74481-f917-4757-82ed-5630cb845a52",
   "metadata": {},
   "source": [
    "# Setup"
   ]
  },
  {
   "cell_type": "markdown",
   "id": "93aa428f-b409-4c69-b858-0e896cc13ca7",
   "metadata": {},
   "source": [
    "Python ≥ 3.7:"
   ]
  },
  {
   "cell_type": "code",
   "execution_count": 1,
   "id": "58835a62-56f7-44b1-8c1d-b8f20c356d5c",
   "metadata": {},
   "outputs": [],
   "source": [
    "import sys\n",
    "assert sys.version_info >= (3,7)"
   ]
  },
  {
   "cell_type": "markdown",
   "id": "b8bad678-1ed9-4234-96d9-757f9173a126",
   "metadata": {},
   "source": [
    "Scikit-learn ≥ 1.0.1:"
   ]
  },
  {
   "cell_type": "code",
   "execution_count": 2,
   "id": "5a3592b1-293b-46ec-afd6-7c90b0fa1b23",
   "metadata": {},
   "outputs": [],
   "source": [
    "from packaging import version\n",
    "import sklearn\n",
    "\n",
    "assert version.parse(sklearn.__version__) >= version.parse(\"1.0.1\")"
   ]
  },
  {
   "cell_type": "markdown",
   "id": "6a180b2a-2cf7-4782-804f-d30151bc6763",
   "metadata": {},
   "source": [
    "default font sizes:"
   ]
  },
  {
   "cell_type": "code",
   "execution_count": null,
   "id": "5064f7c9-9674-425c-a8e6-de334b7075ca",
   "metadata": {},
   "outputs": [],
   "source": [
    "import matplotlib.pyplot as plt\n",
    "\n",
    "plt.rc(\"font\", size=12)\n",
    "plt.rc(\"axes\", labelsize=14, titlesize=14)\n",
    "plt.rc(\"legend\", fontsize=12)\n",
    "plt.rc(\"xtick\", labelsize=10)\n",
    "plt.rc(\"ytick\", labelsize=10)"
   ]
  },
  {
   "cell_type": "markdown",
   "id": "7a90e35b-bf98-4947-8a68-168152dd6339",
   "metadata": {},
   "source": [
    "Ensure stable output across runs:"
   ]
  },
  {
   "cell_type": "code",
   "execution_count": null,
   "id": "f941d160-a72b-40a7-96f6-2813ffd66ddd",
   "metadata": {},
   "outputs": [],
   "source": [
    "import numpy as np\n",
    "\n",
    "np.random.seed(42)"
   ]
  },
  {
   "cell_type": "markdown",
   "id": "fa36516d-5bc9-4a0b-925a-0dfba8297a86",
   "metadata": {},
   "source": [
    "# Code Example 1-1"
   ]
  },
  {
   "cell_type": "code",
   "execution_count": null,
   "id": "9d92e166-2d7f-442d-ba65-8b53d5f2327d",
   "metadata": {},
   "outputs": [],
   "source": [
    "import matplotlib.pyplot as plt\n",
    "import numpy as np\n",
    "import pandas as pd\n",
    "from sklearn.linear_model import LinearRegression\n",
    "\n",
    "data_root = \"https://github.com/ageron/data/raw/main/\"\n",
    "lifesat = pd.read_csv(data_root + \"/lifesat/lifesat.csv\")\n",
    "\n",
    "X = lifesat[[\"GDP per capita (USD)\"]].values\n",
    "y = lifesat[[\"Life satisfaction\"]].values\n",
    "\n",
    "lifesat.plot(\n",
    "    kind=\"scatter\",\n",
    "    grid=True,\n",
    "    x=\"GDP per capita (USD)\",\n",
    "    y=\"Life satisfaction\"\n",
    ")\n",
    "\n",
    "plt.axis([23_500, 62_500, 4, 9])\n",
    "\n",
    "plt.plot()\n",
    "\n",
    "model = LinearRegression()\n",
    "\n",
    "model.fit(X, y)\n",
    "\n",
    "X_new = [[37_655.2]]\n",
    "\n",
    "print(model.predict(X_new))"
   ]
  },
  {
   "cell_type": "code",
   "execution_count": null,
   "id": "1bdfe9dc-89d8-41dc-8633-60d8fea51257",
   "metadata": {},
   "outputs": [],
   "source": [
    "from sklearn.neighbors import KNeighborsRegressor\n",
    "\n",
    "model = KNeighborsRegressor(n_neighbors=3)\n",
    "\n",
    "model.fit(X, y)\n",
    "\n",
    "print(model.predict(X_new))"
   ]
  },
  {
   "cell_type": "markdown",
   "id": "49487977-45ba-429f-9671-45d711589495",
   "metadata": {},
   "source": [
    "1. Machine Learning is about building systems that can learn from data. Learning means getting better at some task, given some performance measure.\n",
    "2. Machine Learning is great for complex problems for which we have no algorithmic solution, to replace long lists of hand-tuned rules, to build systems that adapt to fluctuating environments, and finally to help humans learn (e.g., data mining).\n",
    "3. A labeled training set is a training set that contains the desired solution (a.k.a. a label) for each instance.\n",
    "4. The two most common supervised tasks are regression and classification.\n",
    "5. Common unsupervised tasks include clustering, visualization, dimensionality reduction, and association rule learning.\n",
    "6. Reinforcement Learning is likely to perform best if we want a robot to learn to walk in various unknown terrains, since this is typically the type of problem that Reinforcement Learning tackles. It might be possible to express the problem as a supervised or semi-supervised learning problem, but it would be less natural.\n",
    "7. If you don't know how to define the groups, then you can use a clustering algorithm (unsupervised learning) to segment your customers into clusters of similar customers. However, if you know what groups you would like to have, then you can feed many examples of each group to a classification algorithm (supervised learning), and it will classify all your customers into these groups.\n",
    "8. Spam detection is a typical supervised learning problem: the algorithm is fed many emails along with their labels (spam or not spam).\n",
    "9. An online learning system can learn incrementally, as opposed to a batch learning system. This makes it capable of adapting rapidly to both changing data and autonomous systems, and of training on very large quantities of data.\n",
    "10. Out-of-core algorithms can handle vast quantities of data that cannot fit in a computer's main memory. An out-of-core learning algorithm chops the data into mini-batches and uses online learning techniques to learn from these mini-batches.\n",
    "11. An instance-based learning system learns the training data by heart; then, when given a new instance, it uses a similarity measure to find the most similar learned instances and uses them to make predictions.\n",
    "12. A model has one or more model parameters that determine what it will predict given a new instance (e.g., the slope of a linear model). A learning algorithm tries to find optimal values for these parameters such that the model generalizes well to new instances. A hyperparameter is a parameter of the learning algorithm itself, not of the model (e.g., the amount of regularization to apply).\n",
    "13. Model-based learning algorithms search for an optimal value for the model parameters such that the model will generalize well to new instances. We usually train such systems by minimizing a cost function that measures how bad the system is at making predictions on the training data, plus a penalty for model complexity if the model is regularized. To make predictions, we feed the new instance's features into the model's prediction function, using the parameter values found by the learning algorithm.\n",
    "14. Some of the main challenges in Machine Learning are the lack of data, poor data quality, nonrepresentative data, uninformative features, excessively simple models that underfit the training data, and excessively complex models that overfit the data.\n",
    "15. If a model performs great on the training data but generalizes poorly to new instances, the model is likely overfitting the training data (or we got extremely lucky on the training data). Possible solutions to overfitting are getting more data, simplifying the model (selecting a simpler algorithm, reducing the number of parameters or features used, or regularizing the model), or reducing the noise in the training data.\n",
    "16. A test set is used to estimate the generalization error that a model will make on new instances, before the model is launched in production.\n",
    "17. A validation set is used to compare models. It makes it possible to select the best model and tune the hyperparameters.\n",
    "18. The train-dev set is used when there is a risk of mismatch between the training data and the data used in the validation and test datasets (which should always be as close as possible to the data used once the model is in production). The train-dev set is a part of the training set that's held out (the model is not trained on it). The model is trained on the rest of the training set, and evaluated on both the train-dev set and the validation set. If the model performs well on the training set but not on the train-dev set, then the model is likely overfitting the training set. If it performs well on both the training set and the train-dev set, but not on the validation set, then there is probably a significant data mismatch between the training data and the validation + test data, and you should try to improve the training data to make it look more like the validation + test data.\n",
    "19. If you tune hyperparameters using the test set, you risk overfitting the test set, and the generalization error you measure will be optimistic (you may launch a model that performs worse than you expect)."
   ]
  }
 ],
 "metadata": {
  "kernelspec": {
   "display_name": "Python 3 (ipykernel)",
   "language": "python",
   "name": "python3"
  },
  "language_info": {
   "codemirror_mode": {
    "name": "ipython",
    "version": 3
   },
   "file_extension": ".py",
   "mimetype": "text/x-python",
   "name": "python",
   "nbconvert_exporter": "python",
   "pygments_lexer": "ipython3",
   "version": "3.13.0"
  }
 },
 "nbformat": 4,
 "nbformat_minor": 5
}
