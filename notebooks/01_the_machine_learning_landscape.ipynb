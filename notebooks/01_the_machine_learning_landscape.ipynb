{
 "cells": [
  {
   "cell_type": "markdown",
   "id": "f8e74481-f917-4757-82ed-5630cb845a52",
   "metadata": {},
   "source": [
    "# Setup"
   ]
  },
  {
   "cell_type": "markdown",
   "id": "93aa428f-b409-4c69-b858-0e896cc13ca7",
   "metadata": {},
   "source": [
    "Python ≥ 3.7:"
   ]
  },
  {
   "cell_type": "code",
   "execution_count": 1,
   "id": "58835a62-56f7-44b1-8c1d-b8f20c356d5c",
   "metadata": {},
   "outputs": [],
   "source": [
    "import sys\n",
    "assert sys.version_info >= (3,7)"
   ]
  },
  {
   "cell_type": "markdown",
   "id": "b8bad678-1ed9-4234-96d9-757f9173a126",
   "metadata": {},
   "source": [
    "Scikit-learn ≥ 1.0.1:"
   ]
  },
  {
   "cell_type": "code",
   "execution_count": 2,
   "id": "5a3592b1-293b-46ec-afd6-7c90b0fa1b23",
   "metadata": {},
   "outputs": [],
   "source": [
    "from packaging import version\n",
    "import sklearn\n",
    "\n",
    "assert version.parse(sklearn.__version__) >= version.parse(\"1.0.1\")"
   ]
  },
  {
   "cell_type": "markdown",
   "id": "6a180b2a-2cf7-4782-804f-d30151bc6763",
   "metadata": {},
   "source": [
    "default font sizes:"
   ]
  },
  {
   "cell_type": "code",
   "execution_count": null,
   "id": "5064f7c9-9674-425c-a8e6-de334b7075ca",
   "metadata": {},
   "outputs": [],
   "source": [
    "import matplotlib.pyplot as plt\n",
    "\n",
    "plt.rc(\"font\", size=12)\n",
    "plt.rc(\"axes\", labelsize=14, titlesize=14)\n",
    "plt.rc(\"legend\", fontsize=12)\n",
    "plt.rc(\"xtick\", labelsize=10)\n",
    "plt.rc(\"ytick\", labelsize=10)"
   ]
  },
  {
   "cell_type": "code",
   "execution_count": null,
   "id": "5f88aa25-3ffe-4183-a495-174705964256",
   "metadata": {},
   "outputs": [],
   "source": []
  }
 ],
 "metadata": {
  "kernelspec": {
   "display_name": "Python 3 (ipykernel)",
   "language": "python",
   "name": "python3"
  },
  "language_info": {
   "codemirror_mode": {
    "name": "ipython",
    "version": 3
   },
   "file_extension": ".py",
   "mimetype": "text/x-python",
   "name": "python",
   "nbconvert_exporter": "python",
   "pygments_lexer": "ipython3",
   "version": "3.13.0"
  }
 },
 "nbformat": 4,
 "nbformat_minor": 5
}
